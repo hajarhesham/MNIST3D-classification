{
  "cells": [
    {
      "cell_type": "markdown",
      "metadata": {
        "id": "lRhXCTfjoEgU"
      },
      "source": [
        "#### https://www.kaggle.com/code/shivamb/3d-convolutions-understanding-use-case\n",
        "# implementation of MNIST3D classification with conv3D laer"
      ]
    },
    {
      "cell_type": "code",
      "execution_count": null,
      "metadata": {
        "colab": {
          "base_uri": "https://localhost:8080/"
        },
        "id": "a-toHXKFoanx",
        "outputId": "19c60997-9a5e-49dc-de07-384a21a59910"
      },
      "outputs": [
        {
          "output_type": "stream",
          "name": "stdout",
          "text": [
            "Looking in indexes: https://pypi.org/simple, https://us-python.pkg.dev/colab-wheels/public/simple/\n",
            "Requirement already satisfied: kaggle in /usr/local/lib/python3.8/dist-packages (1.5.12)\n",
            "Requirement already satisfied: tqdm in /usr/local/lib/python3.8/dist-packages (from kaggle) (4.64.1)\n",
            "Requirement already satisfied: certifi in /usr/local/lib/python3.8/dist-packages (from kaggle) (2022.12.7)\n",
            "Requirement already satisfied: urllib3 in /usr/local/lib/python3.8/dist-packages (from kaggle) (1.24.3)\n",
            "Requirement already satisfied: python-slugify in /usr/local/lib/python3.8/dist-packages (from kaggle) (7.0.0)\n",
            "Requirement already satisfied: python-dateutil in /usr/local/lib/python3.8/dist-packages (from kaggle) (2.8.2)\n",
            "Requirement already satisfied: requests in /usr/local/lib/python3.8/dist-packages (from kaggle) (2.23.0)\n",
            "Requirement already satisfied: six>=1.10 in /usr/local/lib/python3.8/dist-packages (from kaggle) (1.15.0)\n",
            "Requirement already satisfied: text-unidecode>=1.3 in /usr/local/lib/python3.8/dist-packages (from python-slugify->kaggle) (1.3)\n",
            "Requirement already satisfied: chardet<4,>=3.0.2 in /usr/local/lib/python3.8/dist-packages (from requests->kaggle) (3.0.4)\n",
            "Requirement already satisfied: idna<3,>=2.5 in /usr/local/lib/python3.8/dist-packages (from requests->kaggle) (2.10)\n"
          ]
        }
      ],
      "source": [
        "!pip install kaggle"
      ]
    },
    {
      "cell_type": "code",
      "execution_count": null,
      "metadata": {
        "colab": {
          "base_uri": "https://localhost:8080/",
          "height": 90
        },
        "id": "cbFZGR0xovXd",
        "outputId": "eea410df-605c-4839-b967-8dc461d69dd9"
      },
      "outputs": [
        {
          "output_type": "display_data",
          "data": {
            "text/plain": [
              "<IPython.core.display.HTML object>"
            ],
            "text/html": [
              "\n",
              "     <input type=\"file\" id=\"files-327ffd0b-8af3-467b-9de1-cb77da03518d\" name=\"files[]\" multiple disabled\n",
              "        style=\"border:none\" />\n",
              "     <output id=\"result-327ffd0b-8af3-467b-9de1-cb77da03518d\">\n",
              "      Upload widget is only available when the cell has been executed in the\n",
              "      current browser session. Please rerun this cell to enable.\n",
              "      </output>\n",
              "      <script>// Copyright 2017 Google LLC\n",
              "//\n",
              "// Licensed under the Apache License, Version 2.0 (the \"License\");\n",
              "// you may not use this file except in compliance with the License.\n",
              "// You may obtain a copy of the License at\n",
              "//\n",
              "//      http://www.apache.org/licenses/LICENSE-2.0\n",
              "//\n",
              "// Unless required by applicable law or agreed to in writing, software\n",
              "// distributed under the License is distributed on an \"AS IS\" BASIS,\n",
              "// WITHOUT WARRANTIES OR CONDITIONS OF ANY KIND, either express or implied.\n",
              "// See the License for the specific language governing permissions and\n",
              "// limitations under the License.\n",
              "\n",
              "/**\n",
              " * @fileoverview Helpers for google.colab Python module.\n",
              " */\n",
              "(function(scope) {\n",
              "function span(text, styleAttributes = {}) {\n",
              "  const element = document.createElement('span');\n",
              "  element.textContent = text;\n",
              "  for (const key of Object.keys(styleAttributes)) {\n",
              "    element.style[key] = styleAttributes[key];\n",
              "  }\n",
              "  return element;\n",
              "}\n",
              "\n",
              "// Max number of bytes which will be uploaded at a time.\n",
              "const MAX_PAYLOAD_SIZE = 100 * 1024;\n",
              "\n",
              "function _uploadFiles(inputId, outputId) {\n",
              "  const steps = uploadFilesStep(inputId, outputId);\n",
              "  const outputElement = document.getElementById(outputId);\n",
              "  // Cache steps on the outputElement to make it available for the next call\n",
              "  // to uploadFilesContinue from Python.\n",
              "  outputElement.steps = steps;\n",
              "\n",
              "  return _uploadFilesContinue(outputId);\n",
              "}\n",
              "\n",
              "// This is roughly an async generator (not supported in the browser yet),\n",
              "// where there are multiple asynchronous steps and the Python side is going\n",
              "// to poll for completion of each step.\n",
              "// This uses a Promise to block the python side on completion of each step,\n",
              "// then passes the result of the previous step as the input to the next step.\n",
              "function _uploadFilesContinue(outputId) {\n",
              "  const outputElement = document.getElementById(outputId);\n",
              "  const steps = outputElement.steps;\n",
              "\n",
              "  const next = steps.next(outputElement.lastPromiseValue);\n",
              "  return Promise.resolve(next.value.promise).then((value) => {\n",
              "    // Cache the last promise value to make it available to the next\n",
              "    // step of the generator.\n",
              "    outputElement.lastPromiseValue = value;\n",
              "    return next.value.response;\n",
              "  });\n",
              "}\n",
              "\n",
              "/**\n",
              " * Generator function which is called between each async step of the upload\n",
              " * process.\n",
              " * @param {string} inputId Element ID of the input file picker element.\n",
              " * @param {string} outputId Element ID of the output display.\n",
              " * @return {!Iterable<!Object>} Iterable of next steps.\n",
              " */\n",
              "function* uploadFilesStep(inputId, outputId) {\n",
              "  const inputElement = document.getElementById(inputId);\n",
              "  inputElement.disabled = false;\n",
              "\n",
              "  const outputElement = document.getElementById(outputId);\n",
              "  outputElement.innerHTML = '';\n",
              "\n",
              "  const pickedPromise = new Promise((resolve) => {\n",
              "    inputElement.addEventListener('change', (e) => {\n",
              "      resolve(e.target.files);\n",
              "    });\n",
              "  });\n",
              "\n",
              "  const cancel = document.createElement('button');\n",
              "  inputElement.parentElement.appendChild(cancel);\n",
              "  cancel.textContent = 'Cancel upload';\n",
              "  const cancelPromise = new Promise((resolve) => {\n",
              "    cancel.onclick = () => {\n",
              "      resolve(null);\n",
              "    };\n",
              "  });\n",
              "\n",
              "  // Wait for the user to pick the files.\n",
              "  const files = yield {\n",
              "    promise: Promise.race([pickedPromise, cancelPromise]),\n",
              "    response: {\n",
              "      action: 'starting',\n",
              "    }\n",
              "  };\n",
              "\n",
              "  cancel.remove();\n",
              "\n",
              "  // Disable the input element since further picks are not allowed.\n",
              "  inputElement.disabled = true;\n",
              "\n",
              "  if (!files) {\n",
              "    return {\n",
              "      response: {\n",
              "        action: 'complete',\n",
              "      }\n",
              "    };\n",
              "  }\n",
              "\n",
              "  for (const file of files) {\n",
              "    const li = document.createElement('li');\n",
              "    li.append(span(file.name, {fontWeight: 'bold'}));\n",
              "    li.append(span(\n",
              "        `(${file.type || 'n/a'}) - ${file.size} bytes, ` +\n",
              "        `last modified: ${\n",
              "            file.lastModifiedDate ? file.lastModifiedDate.toLocaleDateString() :\n",
              "                                    'n/a'} - `));\n",
              "    const percent = span('0% done');\n",
              "    li.appendChild(percent);\n",
              "\n",
              "    outputElement.appendChild(li);\n",
              "\n",
              "    const fileDataPromise = new Promise((resolve) => {\n",
              "      const reader = new FileReader();\n",
              "      reader.onload = (e) => {\n",
              "        resolve(e.target.result);\n",
              "      };\n",
              "      reader.readAsArrayBuffer(file);\n",
              "    });\n",
              "    // Wait for the data to be ready.\n",
              "    let fileData = yield {\n",
              "      promise: fileDataPromise,\n",
              "      response: {\n",
              "        action: 'continue',\n",
              "      }\n",
              "    };\n",
              "\n",
              "    // Use a chunked sending to avoid message size limits. See b/62115660.\n",
              "    let position = 0;\n",
              "    do {\n",
              "      const length = Math.min(fileData.byteLength - position, MAX_PAYLOAD_SIZE);\n",
              "      const chunk = new Uint8Array(fileData, position, length);\n",
              "      position += length;\n",
              "\n",
              "      const base64 = btoa(String.fromCharCode.apply(null, chunk));\n",
              "      yield {\n",
              "        response: {\n",
              "          action: 'append',\n",
              "          file: file.name,\n",
              "          data: base64,\n",
              "        },\n",
              "      };\n",
              "\n",
              "      let percentDone = fileData.byteLength === 0 ?\n",
              "          100 :\n",
              "          Math.round((position / fileData.byteLength) * 100);\n",
              "      percent.textContent = `${percentDone}% done`;\n",
              "\n",
              "    } while (position < fileData.byteLength);\n",
              "  }\n",
              "\n",
              "  // All done.\n",
              "  yield {\n",
              "    response: {\n",
              "      action: 'complete',\n",
              "    }\n",
              "  };\n",
              "}\n",
              "\n",
              "scope.google = scope.google || {};\n",
              "scope.google.colab = scope.google.colab || {};\n",
              "scope.google.colab._files = {\n",
              "  _uploadFiles,\n",
              "  _uploadFilesContinue,\n",
              "};\n",
              "})(self);\n",
              "</script> "
            ]
          },
          "metadata": {}
        },
        {
          "output_type": "stream",
          "name": "stdout",
          "text": [
            "Saving kaggle.json to kaggle.json\n"
          ]
        },
        {
          "output_type": "execute_result",
          "data": {
            "text/plain": [
              "{'kaggle.json': b'{\"username\":\"hajarhesham\",\"key\":\"67e84a21479743949f97c093059149bb\"}'}"
            ]
          },
          "metadata": {},
          "execution_count": 2
        }
      ],
      "source": [
        "from google.colab import files\n",
        "files.upload()"
      ]
    },
    {
      "cell_type": "code",
      "execution_count": null,
      "metadata": {
        "id": "D0uvUM7No3RC"
      },
      "outputs": [],
      "source": [
        "%mkdir ~/.kaggle"
      ]
    },
    {
      "cell_type": "code",
      "execution_count": null,
      "metadata": {
        "id": "vxMS1kSUo4fS"
      },
      "outputs": [],
      "source": [
        "%cp kaggle.json ~/.kaggle/"
      ]
    },
    {
      "cell_type": "code",
      "execution_count": null,
      "metadata": {
        "id": "aB8ElnqOo4kF"
      },
      "outputs": [],
      "source": [
        "!chmod 600 ~/.kaggle/kaggle.json"
      ]
    },
    {
      "cell_type": "code",
      "execution_count": null,
      "metadata": {
        "colab": {
          "base_uri": "https://localhost:8080/"
        },
        "id": "wECzLDoepAo9",
        "outputId": "6f796dd5-cdb7-46b3-92dd-efe047365feb"
      },
      "outputs": [
        {
          "output_type": "stream",
          "name": "stdout",
          "text": [
            "ref                                                             title                                           size  lastUpdated          downloadCount  voteCount  usabilityRating  \n",
            "--------------------------------------------------------------  ---------------------------------------------  -----  -------------------  -------------  ---------  ---------------  \n",
            "meirnizri/covid19-dataset                                       COVID-19 Dataset                                 5MB  2022-11-13 15:47:17          13220        373  1.0              \n",
            "thedevastator/analyzing-credit-card-spending-habits-in-india    Credit Card Spending Habits in India           319KB  2022-12-14 07:30:37            767         32  1.0              \n",
            "michals22/coffee-dataset                                        Coffee dataset                                  24KB  2022-12-15 20:02:12           2877         72  1.0              \n",
            "thedevastator/unlock-profits-with-e-commerce-sales-data         E-Commerce Sales Dataset                         6MB  2022-12-03 09:27:17           2158         55  1.0              \n",
            "thedevastator/jobs-dataset-from-glassdoor                       Salary Prediction                                3MB  2022-11-16 13:52:31           7700        168  1.0              \n",
            "die9origephit/fifa-world-cup-2022-complete-dataset              Fifa World Cup 2022: Complete Dataset            7KB  2022-12-18 22:51:11           2388         98  1.0              \n",
            "mattop/highest-grossing-mobile-games                            Highest Grossing Mobile Games                    3KB  2022-12-19 15:20:22            465         23  1.0              \n",
            "thedevastator/uncover-global-trends-in-mental-health-disorder   Global Trends in Mental Health Disorder          1MB  2022-12-14 05:30:38            702         24  1.0              \n",
            "rajkumarpandey02/fifa-world-cup-attendance-19302022             FIFA World Cup Attendance 1930-2022              5KB  2022-12-19 10:04:26            749         21  1.0              \n",
            "thedevastator/revealing-insights-from-youtube-video-and-channe  YouTube Videos and Channels Metadata            82MB  2022-12-14 02:48:24            445         23  0.9411765        \n",
            "thedevastator/uncovering-insights-to-college-majors-and-their   College Majors and their Graduates              39KB  2022-12-06 16:06:52           1103         32  1.0              \n",
            "mvieira101/global-cost-of-living                                Global Cost of Living                            1MB  2022-12-03 16:37:53           3550         73  0.9705882        \n",
            "anashamoutni/students-employability-dataset                     Students' Employability Dataset - Philippines   97KB  2022-12-18 15:51:39            657         28  0.88235295       \n",
            "swaptr/fifa-world-cup-2022-statistics                           FIFA World Cup 2022 Team Data                   15KB  2022-12-19 00:29:15           2714         61  0.9705882        \n",
            "thedevastator/the-ultimate-netflix-tv-shows-and-movies-dataset  Netflix TV Shows and Movies (2022 Updated)       2MB  2022-11-27 20:41:41           2530         46  1.0              \n",
            "whenamancodes/predict-diabities                                 Predict Diabetes                                 9KB  2022-11-09 12:18:49           8007        122  1.0              \n",
            "kulturehire/understanding-career-aspirations-of-genz            Understanding Career Aspirations of GenZ         8KB  2022-12-21 13:44:32            242         23  0.9117647        \n",
            "thedevastator/uncovering-wage-disparities-in-pennsylvania-s-hi  Higher Education Wages                         223KB  2022-12-04 15:42:36           1286         40  1.0              \n",
            "laibaanwer/superstore-sales-dataset                             SuperStore Sales Dataset                         2MB  2022-12-07 08:53:32           1509         37  1.0              \n",
            "catherinerasgaitis/mxmh-survey-results                          Music & Mental Health Survey Results            22KB  2022-11-21 10:03:12           3209         75  1.0              \n"
          ]
        }
      ],
      "source": [
        "!kaggle datasets list"
      ]
    },
    {
      "cell_type": "code",
      "execution_count": null,
      "metadata": {
        "colab": {
          "base_uri": "https://localhost:8080/"
        },
        "id": "xN_kNCHJpJ-F",
        "outputId": "30d94917-ac28-415f-baa0-34b0c183c80d"
      },
      "outputs": [
        {
          "output_type": "stream",
          "name": "stdout",
          "text": [
            "Downloading 3d-mnist.zip to /content\n",
            " 98% 149M/153M [00:06<00:00, 29.8MB/s]\n",
            "100% 153M/153M [00:06<00:00, 25.6MB/s]\n"
          ]
        }
      ],
      "source": [
        "!kaggle datasets download -d daavoo/3d-mnist"
      ]
    },
    {
      "cell_type": "code",
      "execution_count": null,
      "metadata": {
        "colab": {
          "base_uri": "https://localhost:8080/"
        },
        "id": "L0kia4gypZjX",
        "outputId": "37e20062-5426-40d9-f978-30416f368f34"
      },
      "outputs": [
        {
          "output_type": "stream",
          "name": "stdout",
          "text": [
            "Archive:  /content/3d-mnist.zip\n",
            "  inflating: full_dataset_vectors.h5  \n",
            "  inflating: plot3D.py               \n",
            "  inflating: test_point_clouds.h5    \n",
            "  inflating: train_point_clouds.h5   \n",
            "  inflating: voxelgrid.py            \n"
          ]
        }
      ],
      "source": [
        "!unzip /content/3d-mnist.zip"
      ]
    },
    {
      "cell_type": "code",
      "execution_count": null,
      "metadata": {
        "id": "5VYx0plioEgW"
      },
      "outputs": [],
      "source": [
        "from tensorflow.keras.layers import Input, Conv3D, MaxPool3D, Flatten, Dense\n",
        "from tensorflow.keras.layers import Dropout, Input, BatchNormalization\n",
        "from sklearn.metrics import confusion_matrix, accuracy_score\n",
        "from plotly.offline import iplot, init_notebook_mode\n",
        "from tensorflow.keras.losses import categorical_crossentropy\n",
        "from tensorflow.keras.optimizers import Adadelta,SGD,Adam\n",
        "import plotly.graph_objs as go\n",
        "from matplotlib.pyplot import cm\n",
        "from tensorflow.keras.models import Model\n",
        "import numpy as np\n",
        "import tensorflow.keras\n",
        "import h5py\n",
        "from tensorflow import keras\n",
        "\n",
        "# init_notebook_mode(connected=True)\n",
        "%matplotlib inline"
      ]
    },
    {
      "cell_type": "code",
      "execution_count": null,
      "metadata": {
        "id": "MxMeyr19oEgX"
      },
      "outputs": [],
      "source": [
        "with h5py.File('full_dataset_vectors.h5', 'r') as dataset:\n",
        "    x_train = dataset[\"X_train\"][:]\n",
        "    x_test = dataset[\"X_test\"][:]\n",
        "    y_train = dataset[\"y_train\"][:]\n",
        "    y_test = dataset[\"y_test\"][:]"
      ]
    },
    {
      "cell_type": "code",
      "execution_count": null,
      "metadata": {
        "colab": {
          "base_uri": "https://localhost:8080/"
        },
        "id": "fQ7KD5PPoEgY",
        "outputId": "fa560e35-600b-4b30-dd15-86ff2ca3708f"
      },
      "outputs": [
        {
          "output_type": "stream",
          "name": "stdout",
          "text": [
            "x_train shape:  (10000, 4096)\n",
            "y_train shape:  (10000,)\n",
            "x_test shape:   (2000, 4096)\n",
            "y_test shape:   (2000,)\n"
          ]
        }
      ],
      "source": [
        "print (\"x_train shape: \", x_train.shape)\n",
        "print (\"y_train shape: \", y_train.shape)\n",
        "\n",
        "print (\"x_test shape:  \", x_test.shape)\n",
        "print (\"y_test shape:  \", y_test.shape)"
      ]
    },
    {
      "cell_type": "code",
      "execution_count": null,
      "metadata": {
        "id": "FXku93kCoEgZ"
      },
      "outputs": [],
      "source": [
        "## Introduce the channel dimention in the input dataset \n",
        "xtrain = np.ndarray((x_train.shape[0], 4096, 3))\n",
        "xtest = np.ndarray((x_test.shape[0], 4096, 3))\n",
        "\n",
        "## iterate in train and test, add the rgb dimention \n",
        "def add_rgb_dimention(array):\n",
        "    scaler_map = cm.ScalarMappable(cmap=\"Oranges\")\n",
        "    array = scaler_map.to_rgba(array)[:, : -1]\n",
        "    return array\n",
        "for i in range(x_train.shape[0]):\n",
        "    xtrain[i] = add_rgb_dimention(x_train[i])\n",
        "for i in range(x_test.shape[0]):\n",
        "    xtest[i] = add_rgb_dimention(x_test[i])\n",
        "## convert to 1 + 4D space (1st argument represents number of rows in the dataset)\n",
        "xtrain = xtrain.reshape(x_train.shape[0], 16, 16, 16, 3)\n",
        "xtest = xtest.reshape(x_test.shape[0], 16, 16, 16, 3)\n",
        "\n",
        "## convert target variable into one-hot\n",
        "y_train = keras.utils.to_categorical(y_train, 10)\n",
        "y_test = keras.utils.to_categorical(y_test, 10)"
      ]
    },
    {
      "cell_type": "code",
      "execution_count": null,
      "metadata": {
        "colab": {
          "base_uri": "https://localhost:8080/"
        },
        "id": "UiKm5SVeoEga",
        "outputId": "d587469e-3fdb-4717-a76e-ad69092fa9e9"
      },
      "outputs": [
        {
          "output_type": "execute_result",
          "data": {
            "text/plain": [
              "(10000, 16, 16, 16, 3)"
            ]
          },
          "metadata": {},
          "execution_count": 5
        }
      ],
      "source": [
        "xtrain.shape"
      ]
    },
    {
      "cell_type": "code",
      "execution_count": null,
      "metadata": {
        "id": "3ZIQOE_roEgb",
        "colab": {
          "base_uri": "https://localhost:8080/"
        },
        "outputId": "a052cea7-908b-4260-8dfa-5876b1adbab7"
      },
      "outputs": [
        {
          "output_type": "stream",
          "name": "stdout",
          "text": [
            "Model: \"model\"\n",
            "_________________________________________________________________\n",
            " Layer (type)                Output Shape              Param #   \n",
            "=================================================================\n",
            " input_1 (InputLayer)        [(None, 16, 16, 16, 3)]   0         \n",
            "                                                                 \n",
            " conv3d (Conv3D)             (None, 16, 16, 16, 16)    1312      \n",
            "                                                                 \n",
            " batch_normalization (BatchN  (None, 16, 16, 16, 16)   64        \n",
            " ormalization)                                                   \n",
            "                                                                 \n",
            " conv3d_1 (Conv3D)           (None, 16, 16, 16, 32)    13856     \n",
            "                                                                 \n",
            " max_pooling3d (MaxPooling3D  (None, 8, 8, 8, 32)      0         \n",
            " )                                                               \n",
            "                                                                 \n",
            " conv3d_2 (Conv3D)           (None, 8, 8, 8, 64)       55360     \n",
            "                                                                 \n",
            " batch_normalization_1 (Batc  (None, 8, 8, 8, 64)      256       \n",
            " hNormalization)                                                 \n",
            "                                                                 \n",
            " conv3d_3 (Conv3D)           (None, 8, 8, 8, 128)      221312    \n",
            "                                                                 \n",
            " batch_normalization_2 (Batc  (None, 8, 8, 8, 128)     512       \n",
            " hNormalization)                                                 \n",
            "                                                                 \n",
            " max_pooling3d_1 (MaxPooling  (None, 4, 4, 4, 128)     0         \n",
            " 3D)                                                             \n",
            "                                                                 \n",
            " dropout (Dropout)           (None, 4, 4, 4, 128)      0         \n",
            "                                                                 \n",
            " flatten (Flatten)           (None, 8192)              0         \n",
            "                                                                 \n",
            " dense (Dense)               (None, 4096)              33558528  \n",
            "                                                                 \n",
            " dropout_1 (Dropout)         (None, 4096)              0         \n",
            "                                                                 \n",
            " dense_1 (Dense)             (None, 1024)              4195328   \n",
            "                                                                 \n",
            " dropout_2 (Dropout)         (None, 1024)              0         \n",
            "                                                                 \n",
            " dense_2 (Dense)             (None, 10)                10250     \n",
            "                                                                 \n",
            "=================================================================\n",
            "Total params: 38,056,778\n",
            "Trainable params: 38,056,362\n",
            "Non-trainable params: 416\n",
            "_________________________________________________________________\n"
          ]
        }
      ],
      "source": [
        "## input layer\n",
        "input_layer = Input((16, 16, 16, 3))\n",
        "\n",
        "## convolutional layers\n",
        "conv_layer1 = Conv3D(filters=16, kernel_size=(3, 3, 3), activation='relu',strides = 1,padding='same')(input_layer)\n",
        "conv_layer1  = BatchNormalization()(conv_layer1)\n",
        "conv_layer2 = Conv3D(filters=32, kernel_size=(3, 3, 3), activation='relu',strides = 1,padding='same')(conv_layer1)\n",
        "\n",
        "## add max pooling to obtain the most imformatic features\n",
        "pooling_layer1 = MaxPool3D(pool_size=(2, 2, 2))(conv_layer2)\n",
        "\n",
        "conv_layer3 = Conv3D(filters=64, kernel_size=(3, 3, 3), activation='relu',strides = 1,padding='same')(pooling_layer1)\n",
        "conv_layer3  = BatchNormalization()(conv_layer3)\n",
        "conv_layer4 = Conv3D(filters=128, kernel_size=(3, 3, 3), activation='relu',strides = 1,padding='same')(conv_layer3)\n",
        "conv_layer4  = BatchNormalization()(conv_layer4)\n",
        "pooling_layer2 = MaxPool3D(pool_size=(2, 2, 2))(conv_layer4)\n",
        "\n",
        "## perform batch normalization on the convolution outputs before feeding it to MLP architecture\n",
        "pooling_layer2 = Dropout(0.25)(pooling_layer2)\n",
        "\n",
        "flatten_layer = Flatten()(pooling_layer2)\n",
        "\n",
        "## create an MLP architecture with dense layers : 4096 -> 1024 -> 10\n",
        "## add dropouts to avoid overfitting / perform regularization\n",
        "dense_layer1 = Dense(units=4096, activation='relu')(flatten_layer)\n",
        "dense_layer1 = Dropout(0.44)(dense_layer1)\n",
        "dense_layer2 = Dense(units=1024, activation='relu')(dense_layer1)\n",
        "dense_layer2 = Dropout(0.45)(dense_layer2)\n",
        "output_layer = Dense(units=10, activation='softmax')(dense_layer2)\n",
        "## define the model with input layer and output layer\n",
        "model = Model(inputs=input_layer, outputs=output_layer)\n",
        "model.summary()"
      ]
    },
    {
      "cell_type": "code",
      "execution_count": null,
      "metadata": {
        "colab": {
          "base_uri": "https://localhost:8080/"
        },
        "id": "vW5dHypMoEgc",
        "outputId": "6a80f544-04dd-4bd4-8d9f-52b76fe52cd1"
      },
      "outputs": [
        {
          "output_type": "stream",
          "name": "stdout",
          "text": [
            "Epoch 1/50\n",
            "219/219 [==============================] - 12s 36ms/step - loss: 3.4886 - acc: 0.1687 - val_loss: 2.2968 - val_acc: 0.1147\n",
            "Epoch 2/50\n",
            "219/219 [==============================] - 8s 36ms/step - loss: 2.3614 - acc: 0.2609 - val_loss: 1.8414 - val_acc: 0.4283\n",
            "Epoch 3/50\n",
            "219/219 [==============================] - 7s 34ms/step - loss: 2.0893 - acc: 0.3174 - val_loss: 1.6180 - val_acc: 0.5070\n",
            "Epoch 4/50\n",
            "219/219 [==============================] - 7s 34ms/step - loss: 1.9121 - acc: 0.3739 - val_loss: 1.4822 - val_acc: 0.5313\n",
            "Epoch 5/50\n",
            "219/219 [==============================] - 7s 34ms/step - loss: 1.7936 - acc: 0.4084 - val_loss: 1.4066 - val_acc: 0.5510\n",
            "Epoch 6/50\n",
            "219/219 [==============================] - 8s 36ms/step - loss: 1.6972 - acc: 0.4429 - val_loss: 1.3583 - val_acc: 0.5537\n",
            "Epoch 7/50\n",
            "219/219 [==============================] - 7s 34ms/step - loss: 1.5945 - acc: 0.4724 - val_loss: 1.2943 - val_acc: 0.5817\n",
            "Epoch 8/50\n",
            "219/219 [==============================] - 8s 36ms/step - loss: 1.5299 - acc: 0.4884 - val_loss: 1.2435 - val_acc: 0.5860\n",
            "Epoch 9/50\n",
            "219/219 [==============================] - 8s 35ms/step - loss: 1.4846 - acc: 0.5001 - val_loss: 1.2183 - val_acc: 0.5860\n",
            "Epoch 10/50\n",
            "219/219 [==============================] - 8s 36ms/step - loss: 1.4383 - acc: 0.5191 - val_loss: 1.2200 - val_acc: 0.5840\n",
            "Epoch 11/50\n",
            "219/219 [==============================] - 7s 34ms/step - loss: 1.3825 - acc: 0.5323 - val_loss: 1.1848 - val_acc: 0.5957\n",
            "Epoch 12/50\n",
            "219/219 [==============================] - 7s 34ms/step - loss: 1.3612 - acc: 0.5347 - val_loss: 1.1456 - val_acc: 0.6073\n",
            "Epoch 13/50\n",
            "219/219 [==============================] - 8s 36ms/step - loss: 1.3091 - acc: 0.5537 - val_loss: 1.1299 - val_acc: 0.6200\n",
            "Epoch 14/50\n",
            "219/219 [==============================] - 7s 34ms/step - loss: 1.2810 - acc: 0.5636 - val_loss: 1.1156 - val_acc: 0.6200\n",
            "Epoch 15/50\n",
            "219/219 [==============================] - 8s 36ms/step - loss: 1.2528 - acc: 0.5770 - val_loss: 1.0945 - val_acc: 0.6303\n",
            "Epoch 16/50\n",
            "219/219 [==============================] - 7s 34ms/step - loss: 1.2275 - acc: 0.5873 - val_loss: 1.0862 - val_acc: 0.6310\n",
            "Epoch 17/50\n",
            "219/219 [==============================] - 8s 36ms/step - loss: 1.1892 - acc: 0.5983 - val_loss: 1.0725 - val_acc: 0.6323\n",
            "Epoch 18/50\n",
            "219/219 [==============================] - 7s 34ms/step - loss: 1.1707 - acc: 0.6017 - val_loss: 1.0495 - val_acc: 0.6400\n",
            "Epoch 19/50\n",
            "219/219 [==============================] - 8s 36ms/step - loss: 1.1497 - acc: 0.6087 - val_loss: 1.0433 - val_acc: 0.6377\n",
            "Epoch 20/50\n",
            "219/219 [==============================] - 7s 34ms/step - loss: 1.1234 - acc: 0.6159 - val_loss: 1.0240 - val_acc: 0.6453\n",
            "Epoch 21/50\n",
            "219/219 [==============================] - 8s 36ms/step - loss: 1.1056 - acc: 0.6161 - val_loss: 1.0233 - val_acc: 0.6443\n",
            "Epoch 22/50\n",
            "219/219 [==============================] - 7s 34ms/step - loss: 1.1069 - acc: 0.6163 - val_loss: 1.0193 - val_acc: 0.6473\n",
            "Epoch 23/50\n",
            "219/219 [==============================] - 7s 34ms/step - loss: 1.0579 - acc: 0.6363 - val_loss: 1.0197 - val_acc: 0.6390\n",
            "Epoch 24/50\n",
            "219/219 [==============================] - 8s 37ms/step - loss: 1.0621 - acc: 0.6364 - val_loss: 0.9963 - val_acc: 0.6530\n",
            "Epoch 25/50\n",
            "219/219 [==============================] - 7s 34ms/step - loss: 1.0320 - acc: 0.6503 - val_loss: 1.0079 - val_acc: 0.6427\n",
            "Epoch 26/50\n",
            "219/219 [==============================] - 7s 34ms/step - loss: 1.0377 - acc: 0.6441 - val_loss: 0.9796 - val_acc: 0.6620\n",
            "Epoch 27/50\n",
            "219/219 [==============================] - 7s 34ms/step - loss: 0.9906 - acc: 0.6561 - val_loss: 0.9784 - val_acc: 0.6663\n",
            "Epoch 28/50\n",
            "219/219 [==============================] - 7s 34ms/step - loss: 0.9829 - acc: 0.6620 - val_loss: 0.9668 - val_acc: 0.6627\n",
            "Epoch 29/50\n",
            "219/219 [==============================] - 8s 36ms/step - loss: 0.9532 - acc: 0.6713 - val_loss: 0.9635 - val_acc: 0.6667\n",
            "Epoch 30/50\n",
            "219/219 [==============================] - 8s 36ms/step - loss: 0.9650 - acc: 0.6663 - val_loss: 0.9663 - val_acc: 0.6570\n",
            "Epoch 31/50\n",
            "219/219 [==============================] - 7s 34ms/step - loss: 0.9417 - acc: 0.6731 - val_loss: 0.9518 - val_acc: 0.6780\n",
            "Epoch 32/50\n",
            "219/219 [==============================] - 7s 34ms/step - loss: 0.9241 - acc: 0.6814 - val_loss: 0.9515 - val_acc: 0.6663\n",
            "Epoch 33/50\n",
            "219/219 [==============================] - 7s 34ms/step - loss: 0.9116 - acc: 0.6853 - val_loss: 0.9475 - val_acc: 0.6670\n",
            "Epoch 34/50\n",
            "219/219 [==============================] - 8s 36ms/step - loss: 0.9146 - acc: 0.6826 - val_loss: 0.9410 - val_acc: 0.6720\n",
            "Epoch 35/50\n",
            "219/219 [==============================] - 8s 36ms/step - loss: 0.8895 - acc: 0.6893 - val_loss: 0.9346 - val_acc: 0.6743\n",
            "Epoch 36/50\n",
            "219/219 [==============================] - 7s 34ms/step - loss: 0.8657 - acc: 0.7021 - val_loss: 0.9226 - val_acc: 0.6717\n",
            "Epoch 37/50\n",
            "219/219 [==============================] - 7s 34ms/step - loss: 0.8612 - acc: 0.7026 - val_loss: 0.9101 - val_acc: 0.6870\n",
            "Epoch 38/50\n",
            "219/219 [==============================] - 8s 36ms/step - loss: 0.8509 - acc: 0.7051 - val_loss: 0.9100 - val_acc: 0.6807\n",
            "Epoch 39/50\n",
            "219/219 [==============================] - 7s 34ms/step - loss: 0.8361 - acc: 0.7107 - val_loss: 0.9063 - val_acc: 0.6823\n",
            "Epoch 40/50\n",
            "219/219 [==============================] - 8s 36ms/step - loss: 0.8272 - acc: 0.7126 - val_loss: 0.9153 - val_acc: 0.6753\n",
            "Epoch 41/50\n",
            "219/219 [==============================] - 8s 36ms/step - loss: 0.7937 - acc: 0.7217 - val_loss: 0.9223 - val_acc: 0.6737\n",
            "Epoch 42/50\n",
            "219/219 [==============================] - 7s 34ms/step - loss: 0.7944 - acc: 0.7284 - val_loss: 0.9084 - val_acc: 0.6877\n",
            "Epoch 43/50\n",
            "219/219 [==============================] - 8s 36ms/step - loss: 0.7661 - acc: 0.7326 - val_loss: 0.8935 - val_acc: 0.6863\n",
            "Epoch 44/50\n",
            "219/219 [==============================] - 7s 34ms/step - loss: 0.7682 - acc: 0.7300 - val_loss: 0.9073 - val_acc: 0.6880\n",
            "Epoch 45/50\n",
            "219/219 [==============================] - 7s 34ms/step - loss: 0.7549 - acc: 0.7360 - val_loss: 0.8841 - val_acc: 0.6903\n",
            "Epoch 46/50\n",
            "219/219 [==============================] - 7s 34ms/step - loss: 0.7453 - acc: 0.7419 - val_loss: 0.8923 - val_acc: 0.6930\n",
            "Epoch 47/50\n",
            "219/219 [==============================] - 8s 36ms/step - loss: 0.7140 - acc: 0.7519 - val_loss: 0.8937 - val_acc: 0.6910\n",
            "Epoch 48/50\n",
            "219/219 [==============================] - 7s 34ms/step - loss: 0.7111 - acc: 0.7513 - val_loss: 0.8930 - val_acc: 0.6867\n",
            "Epoch 49/50\n",
            "219/219 [==============================] - 7s 34ms/step - loss: 0.7084 - acc: 0.7570 - val_loss: 0.8788 - val_acc: 0.6953\n",
            "Epoch 50/50\n",
            "219/219 [==============================] - 8s 36ms/step - loss: 0.6869 - acc: 0.7613 - val_loss: 0.8678 - val_acc: 0.7050\n"
          ]
        }
      ],
      "source": [
        "1model.compile(loss=categorical_crossentropy, optimizer=Adadelta(learning_rate =.01), metrics=['acc'])\n",
        "history = model.fit(x=xtrain, y=y_train, batch_size=32, epochs=50, validation_split=0.3)"
      ]
    },
    {
      "cell_type": "code",
      "execution_count": null,
      "metadata": {
        "id": "UtqeZaC0oEgd",
        "colab": {
          "base_uri": "https://localhost:8080/"
        },
        "outputId": "8cfe626f-4684-490a-c7b5-d75bbba09672"
      },
      "outputs": [
        {
          "output_type": "stream",
          "name": "stdout",
          "text": [
            "63/63 [==============================] - 1s 9ms/step\n"
          ]
        }
      ],
      "source": [
        "pred = model.predict(xtest)"
      ]
    },
    {
      "cell_type": "code",
      "execution_count": null,
      "metadata": {
        "id": "4jnPLfacoEge"
      },
      "outputs": [],
      "source": [
        "pred = np.argmax(pred, axis=1)"
      ]
    },
    {
      "cell_type": "code",
      "execution_count": null,
      "metadata": {
        "id": "ZZMTEFn1oEgf",
        "colab": {
          "base_uri": "https://localhost:8080/"
        },
        "outputId": "8db35546-1f8e-41ef-f156-d39bafb225b7"
      },
      "outputs": [
        {
          "output_type": "execute_result",
          "data": {
            "text/plain": [
              "7"
            ]
          },
          "metadata": {},
          "execution_count": 10
        }
      ],
      "source": [
        "pred[1]"
      ]
    },
    {
      "cell_type": "code",
      "source": [
        "import matplotlib.pyplot as plt\n",
        "plt.plot(history.history['acc'])\n",
        "plt.plot(history.history['val_acc'])\n",
        "plt.title('model accuracy')\n",
        "plt.ylabel('accuracy')\n",
        "plt.xlabel('epoch')\n",
        "plt.legend(['train', 'val'], loc='upper left')\n",
        "plt.show()"
      ],
      "metadata": {
        "colab": {
          "base_uri": "https://localhost:8080/",
          "height": 295
        },
        "id": "TTg266V9zRQW",
        "outputId": "000c45d4-350a-4cd6-af98-91212060e48c"
      },
      "execution_count": null,
      "outputs": [
        {
          "output_type": "display_data",
          "data": {
            "text/plain": [
              "<Figure size 432x288 with 1 Axes>"
            ],
            "image/png": "[encoded data removed]"
          },
          "metadata": {
            "needs_background": "light"
          }
        }
      ]
    },
    {
      "cell_type": "code",
      "source": [
        "import matplotlib.pyplot as plt\n",
        "plt.plot(history.history['loss'])\n",
        "plt.plot(history.history['val_loss'])\n",
        "plt.title('model loss')\n",
        "plt.ylabel('loss')\n",
        "plt.xlabel('epoch')\n",
        "plt.legend(['train', 'val'], loc='upper left')\n",
        "plt.show()"
      ],
      "metadata": {
        "colab": {
          "base_uri": "https://localhost:8080/",
          "height": 295
        },
        "id": "34keOJvdEO3J",
        "outputId": "27648429-b397-4956-aeac-e03d6e9aa371"
      },
      "execution_count": null,
      "outputs": [
        {
          "output_type": "display_data",
          "data": {
            "text/plain": [
              "<Figure size 432x288 with 1 Axes>"
            ],
            "image/png": "[encoded data removed]"
          },
          "metadata": {
            "needs_background": "light"
          }
        }
      ]
    }
  ],
  "metadata": {
    "accelerator": "GPU",
    "colab": {
      "provenance": []
    },
    "gpuClass": "standard",
    "kernelspec": {
      "display_name": "Python 3 (ipykernel)",
      "language": "python",
      "name": "python3"
    },
    "language_info": {
      "codemirror_mode": {
        "name": "ipython",
        "version": 3
      },
      "file_extension": ".py",
      "mimetype": "text/x-python",
      "name": "python",
      "nbconvert_exporter": "python",
      "pygments_lexer": "ipython3",
      "version": "3.9.13"
    }
  },
  "nbformat": 4,
  "nbformat_minor": 0
}